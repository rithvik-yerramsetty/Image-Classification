{
  "nbformat": 4,
  "nbformat_minor": 0,
  "metadata": {
    "colab": {
      "provenance": []
    },
    "kernelspec": {
      "name": "python3",
      "display_name": "Python 3"
    },
    "language_info": {
      "name": "python"
    },
    "gpuClass": "standard",
    "accelerator": "GPU",
    "widgets": {
      "application/vnd.jupyter.widget-state+json": {
        "9f3a6352afbd40b1b15c46ceb1ae35af": {
          "model_module": "@jupyter-widgets/controls",
          "model_name": "HBoxModel",
          "model_module_version": "1.5.0",
          "state": {
            "_dom_classes": [],
            "_model_module": "@jupyter-widgets/controls",
            "_model_module_version": "1.5.0",
            "_model_name": "HBoxModel",
            "_view_count": null,
            "_view_module": "@jupyter-widgets/controls",
            "_view_module_version": "1.5.0",
            "_view_name": "HBoxView",
            "box_style": "",
            "children": [
              "IPY_MODEL_23bc8cea3832428098f8b756c62e8f96",
              "IPY_MODEL_9b4f1c0312254edb80ef572895d4de12",
              "IPY_MODEL_175ec1904de04ac2945350d203535447"
            ],
            "layout": "IPY_MODEL_4108efd9bd3240c986c5db4e3a8169a6"
          }
        },
        "23bc8cea3832428098f8b756c62e8f96": {
          "model_module": "@jupyter-widgets/controls",
          "model_name": "HTMLModel",
          "model_module_version": "1.5.0",
          "state": {
            "_dom_classes": [],
            "_model_module": "@jupyter-widgets/controls",
            "_model_module_version": "1.5.0",
            "_model_name": "HTMLModel",
            "_view_count": null,
            "_view_module": "@jupyter-widgets/controls",
            "_view_module_version": "1.5.0",
            "_view_name": "HTMLView",
            "description": "",
            "description_tooltip": null,
            "layout": "IPY_MODEL_a385a213ea2a49558c2d9ed40c6394a5",
            "placeholder": "​",
            "style": "IPY_MODEL_cbf86a81c582400d8b6d1f2855e64450",
            "value": "100%"
          }
        },
        "9b4f1c0312254edb80ef572895d4de12": {
          "model_module": "@jupyter-widgets/controls",
          "model_name": "FloatProgressModel",
          "model_module_version": "1.5.0",
          "state": {
            "_dom_classes": [],
            "_model_module": "@jupyter-widgets/controls",
            "_model_module_version": "1.5.0",
            "_model_name": "FloatProgressModel",
            "_view_count": null,
            "_view_module": "@jupyter-widgets/controls",
            "_view_module_version": "1.5.0",
            "_view_name": "ProgressView",
            "bar_style": "success",
            "description": "",
            "description_tooltip": null,
            "layout": "IPY_MODEL_c2bf98d3f11542f786df53e00f31f4dd",
            "max": 46830571,
            "min": 0,
            "orientation": "horizontal",
            "style": "IPY_MODEL_a21d3d1f972f4ff7b7649fa6633df711",
            "value": 46830571
          }
        },
        "175ec1904de04ac2945350d203535447": {
          "model_module": "@jupyter-widgets/controls",
          "model_name": "HTMLModel",
          "model_module_version": "1.5.0",
          "state": {
            "_dom_classes": [],
            "_model_module": "@jupyter-widgets/controls",
            "_model_module_version": "1.5.0",
            "_model_name": "HTMLModel",
            "_view_count": null,
            "_view_module": "@jupyter-widgets/controls",
            "_view_module_version": "1.5.0",
            "_view_name": "HTMLView",
            "description": "",
            "description_tooltip": null,
            "layout": "IPY_MODEL_a40ba433351e4bd8b8834af614088457",
            "placeholder": "​",
            "style": "IPY_MODEL_ddcf14b0fdfa43af9d014f77b8c9bb16",
            "value": " 44.7M/44.7M [00:00&lt;00:00, 233MB/s]"
          }
        },
        "4108efd9bd3240c986c5db4e3a8169a6": {
          "model_module": "@jupyter-widgets/base",
          "model_name": "LayoutModel",
          "model_module_version": "1.2.0",
          "state": {
            "_model_module": "@jupyter-widgets/base",
            "_model_module_version": "1.2.0",
            "_model_name": "LayoutModel",
            "_view_count": null,
            "_view_module": "@jupyter-widgets/base",
            "_view_module_version": "1.2.0",
            "_view_name": "LayoutView",
            "align_content": null,
            "align_items": null,
            "align_self": null,
            "border": null,
            "bottom": null,
            "display": null,
            "flex": null,
            "flex_flow": null,
            "grid_area": null,
            "grid_auto_columns": null,
            "grid_auto_flow": null,
            "grid_auto_rows": null,
            "grid_column": null,
            "grid_gap": null,
            "grid_row": null,
            "grid_template_areas": null,
            "grid_template_columns": null,
            "grid_template_rows": null,
            "height": null,
            "justify_content": null,
            "justify_items": null,
            "left": null,
            "margin": null,
            "max_height": null,
            "max_width": null,
            "min_height": null,
            "min_width": null,
            "object_fit": null,
            "object_position": null,
            "order": null,
            "overflow": null,
            "overflow_x": null,
            "overflow_y": null,
            "padding": null,
            "right": null,
            "top": null,
            "visibility": null,
            "width": null
          }
        },
        "a385a213ea2a49558c2d9ed40c6394a5": {
          "model_module": "@jupyter-widgets/base",
          "model_name": "LayoutModel",
          "model_module_version": "1.2.0",
          "state": {
            "_model_module": "@jupyter-widgets/base",
            "_model_module_version": "1.2.0",
            "_model_name": "LayoutModel",
            "_view_count": null,
            "_view_module": "@jupyter-widgets/base",
            "_view_module_version": "1.2.0",
            "_view_name": "LayoutView",
            "align_content": null,
            "align_items": null,
            "align_self": null,
            "border": null,
            "bottom": null,
            "display": null,
            "flex": null,
            "flex_flow": null,
            "grid_area": null,
            "grid_auto_columns": null,
            "grid_auto_flow": null,
            "grid_auto_rows": null,
            "grid_column": null,
            "grid_gap": null,
            "grid_row": null,
            "grid_template_areas": null,
            "grid_template_columns": null,
            "grid_template_rows": null,
            "height": null,
            "justify_content": null,
            "justify_items": null,
            "left": null,
            "margin": null,
            "max_height": null,
            "max_width": null,
            "min_height": null,
            "min_width": null,
            "object_fit": null,
            "object_position": null,
            "order": null,
            "overflow": null,
            "overflow_x": null,
            "overflow_y": null,
            "padding": null,
            "right": null,
            "top": null,
            "visibility": null,
            "width": null
          }
        },
        "cbf86a81c582400d8b6d1f2855e64450": {
          "model_module": "@jupyter-widgets/controls",
          "model_name": "DescriptionStyleModel",
          "model_module_version": "1.5.0",
          "state": {
            "_model_module": "@jupyter-widgets/controls",
            "_model_module_version": "1.5.0",
            "_model_name": "DescriptionStyleModel",
            "_view_count": null,
            "_view_module": "@jupyter-widgets/base",
            "_view_module_version": "1.2.0",
            "_view_name": "StyleView",
            "description_width": ""
          }
        },
        "c2bf98d3f11542f786df53e00f31f4dd": {
          "model_module": "@jupyter-widgets/base",
          "model_name": "LayoutModel",
          "model_module_version": "1.2.0",
          "state": {
            "_model_module": "@jupyter-widgets/base",
            "_model_module_version": "1.2.0",
            "_model_name": "LayoutModel",
            "_view_count": null,
            "_view_module": "@jupyter-widgets/base",
            "_view_module_version": "1.2.0",
            "_view_name": "LayoutView",
            "align_content": null,
            "align_items": null,
            "align_self": null,
            "border": null,
            "bottom": null,
            "display": null,
            "flex": null,
            "flex_flow": null,
            "grid_area": null,
            "grid_auto_columns": null,
            "grid_auto_flow": null,
            "grid_auto_rows": null,
            "grid_column": null,
            "grid_gap": null,
            "grid_row": null,
            "grid_template_areas": null,
            "grid_template_columns": null,
            "grid_template_rows": null,
            "height": null,
            "justify_content": null,
            "justify_items": null,
            "left": null,
            "margin": null,
            "max_height": null,
            "max_width": null,
            "min_height": null,
            "min_width": null,
            "object_fit": null,
            "object_position": null,
            "order": null,
            "overflow": null,
            "overflow_x": null,
            "overflow_y": null,
            "padding": null,
            "right": null,
            "top": null,
            "visibility": null,
            "width": null
          }
        },
        "a21d3d1f972f4ff7b7649fa6633df711": {
          "model_module": "@jupyter-widgets/controls",
          "model_name": "ProgressStyleModel",
          "model_module_version": "1.5.0",
          "state": {
            "_model_module": "@jupyter-widgets/controls",
            "_model_module_version": "1.5.0",
            "_model_name": "ProgressStyleModel",
            "_view_count": null,
            "_view_module": "@jupyter-widgets/base",
            "_view_module_version": "1.2.0",
            "_view_name": "StyleView",
            "bar_color": null,
            "description_width": ""
          }
        },
        "a40ba433351e4bd8b8834af614088457": {
          "model_module": "@jupyter-widgets/base",
          "model_name": "LayoutModel",
          "model_module_version": "1.2.0",
          "state": {
            "_model_module": "@jupyter-widgets/base",
            "_model_module_version": "1.2.0",
            "_model_name": "LayoutModel",
            "_view_count": null,
            "_view_module": "@jupyter-widgets/base",
            "_view_module_version": "1.2.0",
            "_view_name": "LayoutView",
            "align_content": null,
            "align_items": null,
            "align_self": null,
            "border": null,
            "bottom": null,
            "display": null,
            "flex": null,
            "flex_flow": null,
            "grid_area": null,
            "grid_auto_columns": null,
            "grid_auto_flow": null,
            "grid_auto_rows": null,
            "grid_column": null,
            "grid_gap": null,
            "grid_row": null,
            "grid_template_areas": null,
            "grid_template_columns": null,
            "grid_template_rows": null,
            "height": null,
            "justify_content": null,
            "justify_items": null,
            "left": null,
            "margin": null,
            "max_height": null,
            "max_width": null,
            "min_height": null,
            "min_width": null,
            "object_fit": null,
            "object_position": null,
            "order": null,
            "overflow": null,
            "overflow_x": null,
            "overflow_y": null,
            "padding": null,
            "right": null,
            "top": null,
            "visibility": null,
            "width": null
          }
        },
        "ddcf14b0fdfa43af9d014f77b8c9bb16": {
          "model_module": "@jupyter-widgets/controls",
          "model_name": "DescriptionStyleModel",
          "model_module_version": "1.5.0",
          "state": {
            "_model_module": "@jupyter-widgets/controls",
            "_model_module_version": "1.5.0",
            "_model_name": "DescriptionStyleModel",
            "_view_count": null,
            "_view_module": "@jupyter-widgets/base",
            "_view_module_version": "1.2.0",
            "_view_name": "StyleView",
            "description_width": ""
          }
        }
      }
    }
  },
  "cells": [
    {
      "cell_type": "code",
      "execution_count": null,
      "metadata": {
        "colab": {
          "base_uri": "https://localhost:8080/"
        },
        "id": "dMDWDJWlg4Dr",
        "outputId": "e38ab35e-5ddb-413a-fea3-112e31d8c346"
      },
      "outputs": [
        {
          "output_type": "stream",
          "name": "stdout",
          "text": [
            "Mounted at /content/drive\n"
          ]
        }
      ],
      "source": [
        "# This mounts your Google Drive to the Colab VM.\n",
        "from google.colab import drive\n",
        "drive.mount('/content/drive')\n",
        "\n",
        "FOLDERNAME = '/content/drive/MyDrive/IISc/Jan-2023/AIP/Assignments/AIP2023-Assignment1/AIP2023-Assignment1'\n",
        "assert FOLDERNAME is not None, \"[!] Enter the foldername.\""
      ]
    },
    {
      "cell_type": "code",
      "source": [
        "%matplotlib inline\n",
        "\n",
        "import matplotlib.pyplot as plt\n",
        "from matplotlib import image as mpimg\n",
        "\n",
        "from pandas.core.common import flatten\n",
        "import copy\n",
        "import numpy as np\n",
        "import random\n",
        "\n",
        "from PIL import Image\n",
        "\n",
        "import torch\n",
        "from torch import nn\n",
        "from torch import optim\n",
        "import torchvision\n",
        "import torch.nn.functional as F\n",
        "from torchvision import datasets, transforms, models\n",
        "from torch.utils.data import Dataset, DataLoader\n",
        "\n",
        "from sklearn.neighbors import KNeighborsClassifier\n",
        "import glob\n",
        "from tqdm import tqdm\n",
        "from torchvision.models.feature_extraction import get_graph_node_names\n",
        "from torchvision.models.feature_extraction import create_feature_extractor\n",
        "\n",
        "from sklearn.metrics import classification_report\n",
        "\n",
        "from mlxtend.plotting import plot_decision_regions\n",
        "from sklearn.decomposition import PCA"
      ],
      "metadata": {
        "id": "Tteurr9hkiat"
      },
      "execution_count": null,
      "outputs": []
    },
    {
      "cell_type": "code",
      "source": [
        "##Class for custom dataset\n",
        "class ClassificationDataset(torch.utils.data.Dataset):\n",
        "  \n",
        "  def __init__(self, root, mode, transforms=None):\n",
        "    data_paths = root + mode\n",
        "    image_paths = [] #to store image paths in list\n",
        "    classes = [] #to store class values\n",
        "\n",
        "    for data_path in glob.glob(data_paths + '/*'):\n",
        "      classes.append(data_path.split('/')[-1])\n",
        "      image_paths.append(glob.glob(data_path + '/*'))\n",
        "    \n",
        "    classes = sorted(classes)\n",
        "    self.classes = classes\n",
        "    self.class_to_labels = {j:i for i,j in enumerate(classes)}\n",
        "    self.labels_to_class = {i:j for i,j in enumerate(classes)}\n",
        "\n",
        "    image_paths = list(flatten(image_paths))\n",
        "    random.shuffle(image_paths)\n",
        "    self.image_paths = image_paths\n",
        "\n",
        "    self.transforms = transforms\n",
        "    self.mode = mode\n",
        "        \n",
        "  def __len__(self):\n",
        "    return len(self.image_paths)\n",
        "  \n",
        "  def __getitem__(self, idx):\n",
        "    image_filepath = self.image_paths[idx]\n",
        "    image = Image.open(image_filepath).convert('RGB')\n",
        "    label = torch.tensor(self.class_to_labels[image_filepath.split('/')[-2]])\n",
        "\n",
        "    if self.transforms is not None:\n",
        "      image = self.transforms[self.mode](image)\n",
        "\n",
        "    return image, label"
      ],
      "metadata": {
        "id": "7CqWh1fBt_Yh"
      },
      "execution_count": null,
      "outputs": []
    },
    {
      "cell_type": "code",
      "source": [
        "##Data transforms that are applied to train, test and validation sets\n",
        "data_transforms = {\n",
        "    'train': transforms.Compose([\n",
        "        transforms.RandomResizedCrop(224),\n",
        "        transforms.RandomHorizontalFlip(),\n",
        "        transforms.ToTensor(),\n",
        "        transforms.Normalize([0.485, 0.456, 0.406], [0.229, 0.224, 0.225])\n",
        "    ]),\n",
        "    'test': transforms.Compose([\n",
        "        transforms.Resize(256),\n",
        "        transforms.CenterCrop(224),\n",
        "        transforms.ToTensor(),\n",
        "        transforms.Normalize([0.485, 0.456, 0.406], [0.229, 0.224, 0.225])\n",
        "    ]),\n",
        "}"
      ],
      "metadata": {
        "id": "_yyphVUxPDgn"
      },
      "execution_count": null,
      "outputs": []
    },
    {
      "cell_type": "code",
      "source": [
        "##Code for data preparation and loading\n",
        "data_dir = '{}/assignment1_data/classification_dataset/'.format(FOLDERNAME)\n",
        "image_datasets = {x: ClassificationDataset(data_dir, x, data_transforms)\n",
        "                          for x in ['train', 'test']}\n",
        "dataset_sizes = {x: len(image_datasets[x]) for x in ['train', 'test']}\n",
        "dataloaders = {x: torch.utils.data.DataLoader(image_datasets[x], batch_size=4,\n",
        "                                             shuffle=False, num_workers=2)\n",
        "              for x in ['train', 'test']}\n",
        "\n",
        "class_names = image_datasets['train'].classes\n",
        "\n",
        "device = torch.device(\"cuda:0\" if torch.cuda.is_available() else \"cpu\")"
      ],
      "metadata": {
        "id": "1sS579kjVLOY"
      },
      "execution_count": null,
      "outputs": []
    },
    {
      "cell_type": "code",
      "source": [
        "##Class for define model\n",
        "class ResNet18FeatureExtractor(torch.nn.Module):\n",
        "  def __init__(self):\n",
        "    super().__init__()\n",
        "    model_conv = torchvision.models.resnet18(weights = torchvision.models.ResNet18_Weights.DEFAULT)\n",
        "    for param in model_conv.parameters():\n",
        "      param.requires_grad = False\n",
        "    return_nodes = {\n",
        "      'flatten' : 'layer1'\n",
        "    }\n",
        "    self.body = create_feature_extractor(model_conv, return_nodes = return_nodes)\n",
        "\n",
        "  def forward(self, x):\n",
        "      x = self.body(x)\n",
        "      return x"
      ],
      "metadata": {
        "id": "n-PiEhERR07G"
      },
      "execution_count": null,
      "outputs": []
    },
    {
      "cell_type": "code",
      "source": [
        "##Model Initialiaztion\n",
        "model = ResNet18FeatureExtractor()"
      ],
      "metadata": {
        "id": "n7yK3CO0VxvQ",
        "colab": {
          "base_uri": "https://localhost:8080/",
          "height": 66,
          "referenced_widgets": [
            "9f3a6352afbd40b1b15c46ceb1ae35af",
            "23bc8cea3832428098f8b756c62e8f96",
            "9b4f1c0312254edb80ef572895d4de12",
            "175ec1904de04ac2945350d203535447",
            "4108efd9bd3240c986c5db4e3a8169a6",
            "a385a213ea2a49558c2d9ed40c6394a5",
            "cbf86a81c582400d8b6d1f2855e64450",
            "c2bf98d3f11542f786df53e00f31f4dd",
            "a21d3d1f972f4ff7b7649fa6633df711",
            "a40ba433351e4bd8b8834af614088457",
            "ddcf14b0fdfa43af9d014f77b8c9bb16"
          ]
        },
        "outputId": "18aeeb93-233f-4f2e-f16f-fb1143bcfd16"
      },
      "execution_count": null,
      "outputs": [
        {
          "output_type": "stream",
          "name": "stderr",
          "text": [
            "Downloading: \"https://download.pytorch.org/models/resnet18-f37072fd.pth\" to /root/.cache/torch/hub/checkpoints/resnet18-f37072fd.pth\n"
          ]
        },
        {
          "output_type": "display_data",
          "data": {
            "text/plain": [
              "  0%|          | 0.00/44.7M [00:00<?, ?B/s]"
            ],
            "application/vnd.jupyter.widget-view+json": {
              "version_major": 2,
              "version_minor": 0,
              "model_id": "9f3a6352afbd40b1b15c46ceb1ae35af"
            }
          },
          "metadata": {}
        }
      ]
    },
    {
      "cell_type": "code",
      "source": [
        "##Code to extract train feature vectors\n",
        "train_feature_vectors = []\n",
        "train_label_vectors = []\n",
        "model.to(device)\n",
        "model.eval()\n",
        "\n",
        "for inputs, labels in dataloaders['train']:\n",
        "  inputs = inputs.to(device)\n",
        "  features = model(inputs)\n",
        "  train_feature_vectors.append(features['layer1'].cpu().detach().numpy())\n",
        "  train_label_vectors.append(labels.numpy())\n"
      ],
      "metadata": {
        "id": "W_jo4QVaV60z"
      },
      "execution_count": null,
      "outputs": []
    },
    {
      "cell_type": "code",
      "source": [
        "##Code to extract test feature vectors\n",
        "test_feature_vectors = []\n",
        "test_label_vectors = []\n",
        "model.to(device)\n",
        "for inputs, labels in dataloaders['test']:\n",
        "  inputs = inputs.to(device)\n",
        "  features = model(inputs)\n",
        "  test_feature_vectors.append(features['layer1'].cpu().detach().numpy())\n",
        "  test_label_vectors.append(labels.numpy())\n"
      ],
      "metadata": {
        "id": "AmJPGkp3lJOs"
      },
      "execution_count": null,
      "outputs": []
    },
    {
      "cell_type": "code",
      "source": [
        "train_label_vectors = np.array(train_label_vectors).reshape(133*4,)\n",
        "train_feature_vectors = np.array(train_feature_vectors).reshape((133*4, 512))\n",
        "\n",
        "test_label_vectors = np.array(test_label_vectors).reshape(120,)\n",
        "test_feature_vectors = np.array(test_feature_vectors).reshape((120, 512))"
      ],
      "metadata": {
        "id": "TamEkr4-i1vc"
      },
      "execution_count": null,
      "outputs": []
    },
    {
      "cell_type": "code",
      "source": [
        "##Function to get KNN accuracy\n",
        "def getKNNaccuracy(train_feature_vectors, train_label_vectors, test_feature_vectors, test_label_vectors, k):\n",
        "  knn_classifier = KNeighborsClassifier(n_neighbors = k)\n",
        "  knn_classifier.fit(train_feature_vectors, train_label_vectors) \n",
        "  preds = knn_classifier.predict(test_feature_vectors)\n",
        "  count = 0\n",
        "  for i in range(len(test_label_vectors)):\n",
        "    if test_label_vectors[i] == preds[i]:\n",
        "      count = count + 1\n",
        "  acc = count * 100 /len(test_label_vectors)\n",
        "  return preds, acc"
      ],
      "metadata": {
        "id": "b_KNKN_icEE-"
      },
      "execution_count": null,
      "outputs": []
    },
    {
      "cell_type": "code",
      "source": [
        "##Function to plot accuracy vs k\n",
        "def plot_graph_k_test_acc():\n",
        "  num_neighbours = []\n",
        "  test_accuracy = []\n",
        "  for k in range(1,532):\n",
        "    num_neighbours.append(k)\n",
        "    _, acc = getKNNaccuracy(train_feature_vectors, train_label_vectors, test_feature_vectors, test_label_vectors, k)\n",
        "    test_accuracy.append(acc)\n",
        "  plt.figure(figsize=(8,6), dpi=100)\n",
        "  plt.scatter(num_neighbours, test_accuracy)\n",
        "  plt.xlabel(\"k\")\n",
        "  plt.ylabel(\"test accuracy\")\n",
        "  plt.title('test_accuracy vs k' )"
      ],
      "metadata": {
        "id": "3deBNjUdnMH6"
      },
      "execution_count": null,
      "outputs": []
    },
    {
      "cell_type": "code",
      "source": [
        "plot_graph_k_test_acc()"
      ],
      "metadata": {
        "colab": {
          "base_uri": "https://localhost:8080/",
          "height": 555
        },
        "id": "foIuAhqsio9k",
        "outputId": "3f2bad77-2f83-4043-ccb7-4502d4f4883e"
      },
      "execution_count": null,
      "outputs": [
        {
          "output_type": "display_data",
          "data": {
            "text/plain": [
              "<Figure size 800x600 with 1 Axes>"
            ],
            "image/png": "[encoded data removed]"
          },
          "metadata": {
            "needs_background": "light"
          }
        }
      ]
    },
    {
      "cell_type": "code",
      "source": [
        "##Code to get accuracy for k =40\n",
        "_, acc = getKNNaccuracy(train_feature_vectors, train_label_vectors, test_feature_vectors, test_label_vectors, 40)\n",
        "print('Accuracy for k = 40 is {}'.format(acc))"
      ],
      "metadata": {
        "colab": {
          "base_uri": "https://localhost:8080/"
        },
        "id": "HkwGRuHbjP3K",
        "outputId": "47ad26ea-548f-4190-cd96-23b9833b5eb2"
      },
      "execution_count": null,
      "outputs": [
        {
          "output_type": "stream",
          "name": "stdout",
          "text": [
            "Accuracy for k = 40 is 97.5\n"
          ]
        }
      ]
    },
    {
      "cell_type": "code",
      "source": [
        "##Function to get classification report\n",
        "def getClassificationReport(train_feature_vectors, train_label_vectors, test_feature_vectors, test_label_vectors, k):\n",
        "  preds, acc = getKNNaccuracy(train_feature_vectors, train_label_vectors, test_feature_vectors, test_label_vectors, k)\n",
        "  report = classification_report(test_label_vectors, preds, target_names=class_names)\n",
        "  return report"
      ],
      "metadata": {
        "id": "3ERdFoL3lJp3"
      },
      "execution_count": null,
      "outputs": []
    },
    {
      "cell_type": "code",
      "source": [
        "report = getClassificationReport(train_feature_vectors, train_label_vectors, test_feature_vectors, test_label_vectors, 10)\n",
        "print(report)"
      ],
      "metadata": {
        "colab": {
          "base_uri": "https://localhost:8080/"
        },
        "id": "8WL0-JFto5JY",
        "outputId": "f0eba033-12c8-4d4d-cd57-92162ea98cee"
      },
      "execution_count": null,
      "outputs": [
        {
          "output_type": "stream",
          "name": "stdout",
          "text": [
            "              precision    recall  f1-score   support\n",
            "\n",
            "        bear       1.00      0.85      0.92        20\n",
            "   butterfly       1.00      1.00      1.00        20\n",
            "       camel       1.00      0.90      0.95        20\n",
            "       chimp       0.87      1.00      0.93        20\n",
            "        duck       1.00      1.00      1.00        20\n",
            "    elephant       0.91      1.00      0.95        20\n",
            "\n",
            "    accuracy                           0.96       120\n",
            "   macro avg       0.96      0.96      0.96       120\n",
            "weighted avg       0.96      0.96      0.96       120\n",
            "\n"
          ]
        }
      ]
    },
    {
      "cell_type": "code",
      "source": [
        "def plt_decision_regions(train_feature_vectors, train_label_vectors, k = 10):\n",
        "\n",
        "  ##used PCA to reduce the dimension of the feature vectors to 2\n",
        "  reduced_dimensional_features = PCA(2).fit_transform(train_feature_vectors)\n",
        "\n",
        "  knn_classifier = KNeighborsClassifier(n_neighbors = 10)\n",
        "  knn_classifier.fit(reduced_dimensional_features, train_label_vectors) \n",
        "\n",
        "  #plotting\n",
        "\n",
        "  fig = plt.figure(figsize=(8, 8))\n",
        "  plot_decision_regions(reduced_dimensional_features,train_label_vectors, clf = knn_classifier, legend=2)\n",
        "  plt.xlabel('feature dim 1')\n",
        "  plt.ylabel('feature dim 2')\n",
        "  plt.title('Decision regions for kNN')\n",
        "  plt.show()"
      ],
      "metadata": {
        "id": "uNNbowO0o_xj"
      },
      "execution_count": null,
      "outputs": []
    },
    {
      "cell_type": "code",
      "source": [
        "plt_decision_regions(train_feature_vectors, train_label_vectors)"
      ],
      "metadata": {
        "colab": {
          "base_uri": "https://localhost:8080/",
          "height": 568
        },
        "id": "GiBD09CswDsN",
        "outputId": "940b590d-15a6-4bf7-b9c0-46a6c322846e"
      },
      "execution_count": null,
      "outputs": [
        {
          "output_type": "stream",
          "name": "stderr",
          "text": [
            "/usr/local/lib/python3.8/dist-packages/mlxtend/plotting/decision_regions.py:244: MatplotlibDeprecationWarning: Passing unsupported keyword arguments to axis() will raise a TypeError in 3.3.\n",
            "  ax.axis(xmin=xx.min(), xmax=xx.max(), y_min=yy.min(), y_max=yy.max())\n"
          ]
        },
        {
          "output_type": "display_data",
          "data": {
            "text/plain": [
              "<Figure size 576x576 with 1 Axes>"
            ],
            "image/png": "[encoded data removed]"
          },
          "metadata": {
            "needs_background": "light"
          }
        }
      ]
    },
    {
      "cell_type": "code",
      "source": [],
      "metadata": {
        "id": "TE8mS043zU3W"
      },
      "execution_count": null,
      "outputs": []
    }
  ]
}