{
 "cells": [
  {
   "cell_type": "markdown",
   "metadata": {},
   "source": [
    "## Note: Please change directory paths where ever necessary"
   ]
  },
  {
   "cell_type": "code",
   "execution_count": 1,
   "metadata": {
    "colab": {
     "base_uri": "https://localhost:8080/"
    },
    "id": "HZyvcyZfeN-f",
    "outputId": "06175079-13b6-483e-9875-3460fd573884"
   },
   "outputs": [
    {
     "name": "stdout",
     "output_type": "stream",
     "text": [
      "Mounted at /content/drive\n"
     ]
    }
   ],
   "source": [
    "# This mounts your Google Drive to the Colab VM.\n",
    "from google.colab import drive\n",
    "drive.mount('/content/drive')\n",
    "\n",
    "FOLDERNAME = '/content/drive/MyDrive/IISc/Jan-2023/AIP/Assignments/AIP2023-Assignment1/AIP2023-Assignment1'\n",
    "assert FOLDERNAME is not None, \"[!] Enter the foldername.\"\n"
   ]
  },
  {
   "cell_type": "code",
   "execution_count": 2,
   "metadata": {
    "colab": {
     "base_uri": "https://localhost:8080/"
    },
    "id": "67WV2aA5fu0C",
    "outputId": "094e2d48-1221-4fae-99a9-c83e61793586"
   },
   "outputs": [
    {
     "name": "stdout",
     "output_type": "stream",
     "text": [
      "Looking in indexes: https://pypi.org/simple, https://us-python.pkg.dev/colab-wheels/public/simple/\n",
      "Collecting split-folders\n",
      "  Downloading split_folders-0.5.1-py3-none-any.whl (8.4 kB)\n",
      "Installing collected packages: split-folders\n",
      "Successfully installed split-folders-0.5.1\n"
     ]
    }
   ],
   "source": [
    "!pip install split-folders\n",
    "%matplotlib inline\n",
    "\n",
    "import matplotlib.pyplot as plt\n",
    "from matplotlib import image as mpimg\n",
    "\n",
    "import os\n",
    "import shutil\n",
    "import time\n",
    "import splitfolders\n",
    "\n",
    "from pandas.core.common import flatten\n",
    "import copy\n",
    "import numpy as np\n",
    "import random\n",
    "\n",
    "from PIL import Image\n",
    "\n",
    "import torch\n",
    "from torch import nn\n",
    "from torch import optim\n",
    "import torchvision\n",
    "import torch.nn.functional as F\n",
    "from torchvision import datasets, transforms, models\n",
    "from torch.utils.data import Dataset, DataLoader\n",
    "from torch.optim import lr_scheduler\n",
    "\n",
    "from torchvision.models.feature_extraction import get_graph_node_names\n",
    "from torchvision.models.feature_extraction import create_feature_extractor\n",
    "\n",
    "from sklearn.metrics import classification_report"
   ]
  },
  {
   "cell_type": "code",
   "execution_count": 3,
   "metadata": {
    "colab": {
     "base_uri": "https://localhost:8080/"
    },
    "id": "QNn7KE04Nulk",
    "outputId": "9b4fcfa9-26a9-4164-bab4-3d95105d2d58"
   },
   "outputs": [
    {
     "name": "stderr",
     "output_type": "stream",
     "text": [
      "Copying files: 532 files [03:44,  2.37 files/s]\n"
     ]
    }
   ],
   "source": [
    "##Code to split train data folder into train and val folders\n",
    "##Please change the input and output folder paths before running this \n",
    "##This might take 3-4 mins to run\n",
    "input_folder = '{}/assignment1_data/classification_dataset/'.format(FOLDERNAME) + 'train'\n",
    "output_folder = '{}/assignment1_data/classification_dataset/'.format(FOLDERNAME) + 'split'\n",
    "splitfolders.ratio(input_folder, output = output_folder, ratio = (0.8, 0.2), group_prefix=None, move = False )"
   ]
  },
  {
   "cell_type": "code",
   "execution_count": 4,
   "metadata": {
    "id": "vmkHoDuVkoXI"
   },
   "outputs": [],
   "source": [
    "##Class to define the model\n",
    "class ResNet18FineTuned(torch.nn.Module):\n",
    "  def __init__(self, num_classes):\n",
    "    super().__init__()\n",
    "    model = torchvision.models.resnet18(weights = torchvision.models.ResNet18_Weights.DEFAULT)\n",
    "    for param in model.parameters():\n",
    "            param.requires_grad = False\n",
    "    num_in_features = model.fc.in_features\n",
    "    model.fc = nn.Linear(in_features = num_in_features, out_features = num_classes)\n",
    "    self.model = model\n",
    "  \n",
    "  def forward(self, x):\n",
    "    out = self.model(x)\n",
    "    return out"
   ]
  },
  {
   "cell_type": "code",
   "execution_count": 5,
   "metadata": {
    "id": "Klm6d6bDpN_6"
   },
   "outputs": [],
   "source": [
    "##Function to train model\n",
    "def train_model(model, scheduler, dataloaders, criterion, optimizer, num_epochs=25):\n",
    "  since = time.time()\n",
    "\n",
    "  best_model_wts = copy.deepcopy(model.state_dict)     ##state_dict - Python dicionary which maps each layer to its parameter tensor\n",
    "  best_acc = 0.0\n",
    "\n",
    "  for epoch in range(num_epochs):\n",
    "    print(f'Epoch {epoch}/{num_epochs - 1}')\n",
    "    print('-' * 10)\n",
    "\n",
    "    for phase in ['train', 'val']:\n",
    "      if phase == 'train':\n",
    "        model.train()\n",
    "      else:\n",
    "        model.eval()\n",
    "    \n",
    "      running_loss = 0.00\n",
    "      running_corrects = 0\n",
    "\n",
    "      for inputs, labels in dataloaders[phase]:\n",
    "        inputs = inputs.to(device)\n",
    "        labels = labels.to(device)\n",
    "\n",
    "        optimizer.zero_grad()   # zero the parameter gradients at the start of training loop\n",
    "\n",
    "        with torch.set_grad_enabled(phase == 'train'):\n",
    "\n",
    "          outputs = model(inputs)\n",
    "          loss = criterion(outputs, labels)\n",
    "\n",
    "          _, preds = torch.max(outputs, 1)\n",
    "\n",
    "          if phase == 'train':\n",
    "            loss.backward()\n",
    "            optimizer.step()\n",
    "\n",
    "        running_loss += loss.item() * inputs.size(0)\n",
    "        running_corrects += torch.sum(preds == labels.data)\n",
    "\n",
    "      if phase == 'train':\n",
    "        scheduler.step()\n",
    "\n",
    "      epoch_loss = running_loss / len(dataloaders[phase].dataset)\n",
    "      epoch_acc = running_corrects.double() / len(dataloaders[phase].dataset)\n",
    "\n",
    "      print('{} Loss: {:.4f} Acc: {:.4f}'.format(phase, epoch_loss, epoch_acc))\n",
    "\n",
    "      if phase == 'val' and epoch_acc > best_acc:\n",
    "          best_acc = epoch_acc\n",
    "          best_model_wts = copy.deepcopy(model.state_dict())\n",
    "\n",
    "    print()\n",
    "\n",
    "  time_elapsed = time.time() - since\n",
    "  print('Training complete in {:.0f}m {:.0f}s'.format(time_elapsed // 60, time_elapsed % 60))\n",
    "  print('Best val Acc: {:4f}'.format(best_acc))\n",
    "\n",
    "  model.load_state_dict(best_model_wts)\n",
    "  return model\n"
   ]
  },
  {
   "cell_type": "code",
   "execution_count": 6,
   "metadata": {
    "id": "RqOyLBHmyEv3"
   },
   "outputs": [],
   "source": [
    "##Function to show image use matplotlib\n",
    "def imshow(inp, title=None):\n",
    "    \"\"\"Imshow for Tensor.\"\"\"\n",
    "    inp = inp.numpy().transpose((1, 2, 0))\n",
    "    mean = np.array([0.485, 0.456, 0.406])\n",
    "    std = np.array([0.229, 0.224, 0.225])\n",
    "    inp = std * inp + mean\n",
    "    inp = np.clip(inp, 0, 1)\n",
    "    plt.imshow(inp)\n",
    "    if title is not None:\n",
    "        plt.title(title)\n",
    "    plt.pause(0.001)  # pause a bit so that plots are updated"
   ]
  },
  {
   "cell_type": "code",
   "execution_count": 7,
   "metadata": {
    "id": "zNDhH3RWsIAv"
   },
   "outputs": [],
   "source": [
    "##this function helps to visualize the predictions\n",
    "def visualize_model(model, num_images=6):\n",
    "    was_training = model.training\n",
    "    model.eval()\n",
    "    images_so_far = 0\n",
    "    fig = plt.figure()\n",
    "\n",
    "    with torch.no_grad():\n",
    "        for i, (inputs, labels) in enumerate(dataloaders['val']):\n",
    "            inputs = inputs.to(device)\n",
    "            labels = labels.to(device)\n",
    "\n",
    "            outputs = model(inputs)\n",
    "            _, preds = torch.max(outputs, 1)\n",
    "\n",
    "            for j in range(inputs.size()[0]):\n",
    "                images_so_far += 1\n",
    "                ax = plt.subplot(num_images//2, 2, images_so_far)\n",
    "                ax.axis('off')\n",
    "                ax.set_title(f'predicted: {class_names[preds[j]]}')\n",
    "                imshow(inputs.cpu().data[j])\n",
    "\n",
    "                if images_so_far == num_images:\n",
    "                    model.train(mode=was_training)\n",
    "                    return\n",
    "        # model.train(mode=was_training)"
   ]
  },
  {
   "cell_type": "code",
   "execution_count": 8,
   "metadata": {
    "id": "UmQCf5fCx81S"
   },
   "outputs": [],
   "source": [
    "##Function to test the model\n",
    "def test_model(model, dataloader):\n",
    "  model.eval()\n",
    "  test_labels = []\n",
    "  pred_labels = []\n",
    "  with torch.no_grad():\n",
    "    running_corrects = 0\n",
    "    for i, (inputs, labels) in enumerate(dataloaders['test']):\n",
    "      inputs = inputs.to(device)\n",
    "      labels = labels.to(device)\n",
    "\n",
    "      outputs = model(inputs)\n",
    "      _, preds = torch.max(outputs, 1)\n",
    "      \n",
    "      \n",
    "      running_corrects += torch.sum(preds == labels.data)\n",
    "      test_labels.append(labels.cpu().detach().numpy())\n",
    "      pred_labels.append(preds.cpu().detach().numpy())\n",
    "\n",
    "      # pred = preds.cpu().numpy()\n",
    "      # labels = labels.cpu().numpy()\n",
    "      # print(preds, labels)\n",
    "\n",
    "    running_corrects = running_corrects.cpu().numpy()\n",
    "    test_acc = float(running_corrects) / len(dataloaders['test'].dataset)\n",
    "    # print(running_corrects)\n",
    "    # print(len(dataloaders['test'].dataset))\n",
    "    print(\"Test Accuracy- \", test_acc)\n",
    "    test_labels = np.array(test_labels).flatten()\n",
    "    pred_labels = np.array(pred_labels).flatten()\n",
    "    report = classification_report(test_labels, pred_labels)\n",
    "    return report\n"
   ]
  },
  {
   "cell_type": "code",
   "execution_count": 9,
   "metadata": {
    "id": "UuLlwWXgDTJc"
   },
   "outputs": [],
   "source": [
    "##This function deletes the split folder\n",
    "def cleanup():\n",
    "  dir = '{}/assignment1_data/classification_dataset/split'.format(FOLDERNAME)\n",
    "  if os.path.exists(dir):\n",
    "    shutil.rmtree(dir)"
   ]
  },
  {
   "cell_type": "code",
   "execution_count": 10,
   "metadata": {
    "id": "P3vONXNrgG59"
   },
   "outputs": [],
   "source": [
    "##Data Transforms for train, test and val datasets\n",
    "data_transforms = {\n",
    "    'train': transforms.Compose([\n",
    "        transforms.RandomResizedCrop(224),\n",
    "        transforms.RandomHorizontalFlip(),\n",
    "        transforms.ToTensor(),\n",
    "        transforms.Normalize([0.485, 0.456, 0.406], [0.229, 0.224, 0.225])\n",
    "    ]),\n",
    "    'val': transforms.Compose([\n",
    "        transforms.Resize(256),\n",
    "        transforms.CenterCrop(224),\n",
    "        transforms.ToTensor(),\n",
    "        transforms.Normalize([0.485, 0.456, 0.406], [0.229, 0.224, 0.225])\n",
    "    ]),\n",
    "    'test': transforms.Compose([\n",
    "        transforms.Resize(256),\n",
    "        transforms.CenterCrop(224),\n",
    "        transforms.ToTensor(),\n",
    "        transforms.Normalize([0.485, 0.456, 0.406], [0.229, 0.224, 0.225])\n",
    "    ]),\n",
    "}"
   ]
  },
  {
   "cell_type": "code",
   "execution_count": 11,
   "metadata": {
    "id": "tX2MJhGKgKrF"
   },
   "outputs": [],
   "source": [
    "##Code for data preparation and loading\n",
    "split_dir = '{}/assignment1_data/classification_dataset/'.format(FOLDERNAME) + 'split'\n",
    "test_dir = '{}/assignment1_data/classification_dataset/'.format(FOLDERNAME) + 'test'\n",
    "image_datasets = { x : torchvision.datasets.ImageFolder(os.path.join(split_dir, x), transform=data_transforms[x]) for x in ['train', 'val'] }\n",
    "image_datasets['test'] = torchvision.datasets.ImageFolder(test_dir, data_transforms['test']) \n",
    "shuffle_datasets = {'train': True, 'val': True, 'test': False}\n",
    "dataloaders = { x : torch.utils.data.DataLoader(image_datasets[x], batch_size = 4, shuffle = shuffle_datasets[x], num_workers = 2) for x in ['train', 'val', 'test'] }\n",
    "\n",
    "class_names = image_datasets['train'].classes\n",
    "\n",
    "device = torch.device(\"cuda:0\" if torch.cuda.is_available() else \"cpu\")"
   ]
  },
  {
   "cell_type": "code",
   "execution_count": 12,
   "metadata": {
    "colab": {
     "base_uri": "https://localhost:8080/",
     "height": 66,
     "referenced_widgets": [
      "e6aa859f19814e11b4b176ad29599400",
      "38feb2535ae9438abe76e3d3aedc6785",
      "533067ae9a174cbbbc1af20d8d0a5d6e",
      "7688b814a70d4de4aed52b760d3a2073",
      "b90b47b5e28d4615847385feb15fc9be",
      "a1c69b2845394f2a8f411228aa0865a0",
      "896a69e2dfe3432996a55b82d0831cd1",
      "6734b6ee44bf4b6384a24d54a2373cde",
      "4467d009e1cb466eb096ab8e16ccf3a5",
      "1d7627ae1f4745b8a611ffcf943e2229",
      "91afbc09c8c049339123c826a031ddcf"
     ]
    },
    "id": "uuU6vTcYpJUY",
    "outputId": "e6d7995e-8f74-4e19-9466-b535dafddedb"
   },
   "outputs": [
    {
     "name": "stderr",
     "output_type": "stream",
     "text": [
      "Downloading: \"https://download.pytorch.org/models/resnet18-f37072fd.pth\" to /root/.cache/torch/hub/checkpoints/resnet18-f37072fd.pth\n"
     ]
    },
    {
     "data": {
      "application/vnd.jupyter.widget-view+json": {
       "model_id": "e6aa859f19814e11b4b176ad29599400",
       "version_major": 2,
       "version_minor": 0
      },
      "text/plain": [
       "  0%|          | 0.00/44.7M [00:00<?, ?B/s]"
      ]
     },
     "metadata": {},
     "output_type": "display_data"
    }
   ],
   "source": [
    "##Model Initialization\n",
    "model_ft = ResNet18FineTuned(len(image_datasets['train'].classes))\n",
    "\n",
    "model_ft = model_ft.to(device)"
   ]
  },
  {
   "cell_type": "code",
   "execution_count": 13,
   "metadata": {
    "colab": {
     "base_uri": "https://localhost:8080/"
    },
    "id": "xNFjlSxyj30k",
    "outputId": "912a70c9-7a65-4b6b-b6e1-c1231593a5a8"
   },
   "outputs": [
    {
     "name": "stdout",
     "output_type": "stream",
     "text": [
      "Parameters to Update by optimizer: model.fc.weight\n",
      "Parameters to Update by optimizer: model.fc.bias\n",
      "Epoch 0/24\n",
      "----------\n",
      "train Loss: 1.4006 Acc: 0.4279\n",
      "val Loss: 0.3024 Acc: 0.9358\n",
      "\n",
      "Epoch 1/24\n",
      "----------\n",
      "train Loss: 0.9192 Acc: 0.6785\n",
      "val Loss: 0.3125 Acc: 0.8349\n",
      "\n",
      "Epoch 2/24\n",
      "----------\n",
      "train Loss: 0.8990 Acc: 0.6974\n",
      "val Loss: 0.1738 Acc: 0.9358\n",
      "\n",
      "Epoch 3/24\n",
      "----------\n",
      "train Loss: 0.7883 Acc: 0.7423\n",
      "val Loss: 0.1630 Acc: 0.9358\n",
      "\n",
      "Epoch 4/24\n",
      "----------\n",
      "train Loss: 0.7151 Acc: 0.7447\n",
      "val Loss: 0.1312 Acc: 0.9541\n",
      "\n",
      "Epoch 5/24\n",
      "----------\n",
      "train Loss: 0.7138 Acc: 0.7565\n",
      "val Loss: 0.1161 Acc: 0.9541\n",
      "\n",
      "Epoch 6/24\n",
      "----------\n",
      "train Loss: 0.6665 Acc: 0.7660\n",
      "val Loss: 0.1328 Acc: 0.9450\n",
      "\n",
      "Epoch 7/24\n",
      "----------\n",
      "train Loss: 0.6150 Acc: 0.7943\n",
      "val Loss: 0.1184 Acc: 0.9725\n",
      "\n",
      "Epoch 8/24\n",
      "----------\n",
      "train Loss: 0.5759 Acc: 0.7967\n",
      "val Loss: 0.1273 Acc: 0.9633\n",
      "\n",
      "Epoch 9/24\n",
      "----------\n",
      "train Loss: 0.5564 Acc: 0.8014\n",
      "val Loss: 0.1053 Acc: 0.9633\n",
      "\n",
      "Epoch 10/24\n",
      "----------\n",
      "train Loss: 0.5181 Acc: 0.8203\n",
      "val Loss: 0.1078 Acc: 0.9633\n",
      "\n",
      "Epoch 11/24\n",
      "----------\n",
      "train Loss: 0.5570 Acc: 0.8109\n",
      "val Loss: 0.1275 Acc: 0.9817\n",
      "\n",
      "Epoch 12/24\n",
      "----------\n",
      "train Loss: 0.6352 Acc: 0.7920\n",
      "val Loss: 0.1225 Acc: 0.9450\n",
      "\n",
      "Epoch 13/24\n",
      "----------\n",
      "train Loss: 0.5140 Acc: 0.8298\n",
      "val Loss: 0.1312 Acc: 0.9541\n",
      "\n",
      "Epoch 14/24\n",
      "----------\n",
      "train Loss: 0.5629 Acc: 0.8014\n",
      "val Loss: 0.1228 Acc: 0.9450\n",
      "\n",
      "Epoch 15/24\n",
      "----------\n",
      "train Loss: 0.4830 Acc: 0.8416\n",
      "val Loss: 0.1179 Acc: 0.9450\n",
      "\n",
      "Epoch 16/24\n",
      "----------\n",
      "train Loss: 0.5652 Acc: 0.7967\n",
      "val Loss: 0.1298 Acc: 0.9633\n",
      "\n",
      "Epoch 17/24\n",
      "----------\n",
      "train Loss: 0.5638 Acc: 0.8203\n",
      "val Loss: 0.1062 Acc: 0.9908\n",
      "\n",
      "Epoch 18/24\n",
      "----------\n",
      "train Loss: 0.5759 Acc: 0.8038\n",
      "val Loss: 0.1281 Acc: 0.9541\n",
      "\n",
      "Epoch 19/24\n",
      "----------\n",
      "train Loss: 0.4808 Acc: 0.8322\n",
      "val Loss: 0.1193 Acc: 0.9541\n",
      "\n",
      "Epoch 20/24\n",
      "----------\n",
      "train Loss: 0.5514 Acc: 0.8085\n",
      "val Loss: 0.1048 Acc: 0.9725\n",
      "\n",
      "Epoch 21/24\n",
      "----------\n",
      "train Loss: 0.5043 Acc: 0.8227\n",
      "val Loss: 0.1176 Acc: 0.9541\n",
      "\n",
      "Epoch 22/24\n",
      "----------\n",
      "train Loss: 0.5501 Acc: 0.8274\n",
      "val Loss: 0.1168 Acc: 0.9450\n",
      "\n",
      "Epoch 23/24\n",
      "----------\n",
      "train Loss: 0.5308 Acc: 0.8132\n",
      "val Loss: 0.1162 Acc: 0.9450\n",
      "\n",
      "Epoch 24/24\n",
      "----------\n",
      "train Loss: 0.5399 Acc: 0.8298\n",
      "val Loss: 0.1167 Acc: 0.9541\n",
      "\n",
      "Training complete in 2m 8s\n",
      "Best val Acc: 0.990826\n"
     ]
    }
   ],
   "source": [
    "##Setting hyperparameters for training\n",
    "params_to_update = []\n",
    "for name,param in model_ft.named_parameters():\n",
    "  if param.requires_grad == True:\n",
    "    params_to_update.append(param)\n",
    "    print(\"Parameters to Update by optimizer:\",name)\n",
    "    \n",
    "optimizer_ft = optim.SGD(params_to_update, lr=0.001, momentum=0.9)\n",
    "\n",
    "criterion = nn.CrossEntropyLoss()\n",
    "\n",
    "exp_lr_scheduler = lr_scheduler.StepLR(optimizer_ft, step_size=7, gamma=0.1)\n",
    "model_ft = train_model(model_ft, exp_lr_scheduler, dataloaders, criterion, optimizer_ft)"
   ]
  },
  {
   "cell_type": "code",
   "execution_count": 14,
   "metadata": {
    "colab": {
     "base_uri": "https://localhost:8080/",
     "height": 581
    },
    "id": "hDD6alP-x3Iw",
    "outputId": "6074db35-c1a1-4061-b4d2-ca3fe7f395bf"
   },
   "outputs": [
    {
     "data": {
      "image/png": "[encoded data removed]",
      "text/plain": [
       "<Figure size 432x288 with 1 Axes>"
      ]
     },
     "metadata": {
      "needs_background": "light"
     },
     "output_type": "display_data"
    },
    {
     "data": {
      "image/png": "[encoded data removed]",
      "text/plain": [
       "<Figure size 432x288 with 1 Axes>"
      ]
     },
     "metadata": {
      "needs_background": "light"
     },
     "output_type": "display_data"
    },
    {
     "data": {
      "image/png": "[encoded data removed]",
      "text/plain": [
       "<Figure size 432x288 with 1 Axes>"
      ]
     },
     "metadata": {
      "needs_background": "light"
     },
     "output_type": "display_data"
    },
    {
     "data": {
      "image/png": "[encoded data removed]",
      "text/plain": [
       "<Figure size 432x288 with 1 Axes>"
      ]
     },
     "metadata": {
      "needs_background": "light"
     },
     "output_type": "display_data"
    },
    {
     "data": {
      "image/png": "[encoded data removed]",
      "text/plain": [
       "<Figure size 432x288 with 1 Axes>"
      ]
     },
     "metadata": {
      "needs_background": "light"
     },
     "output_type": "display_data"
    },
    {
     "data": {
      "image/png": "[encoded data removed]",
      "text/plain": [
       "<Figure size 432x288 with 1 Axes>"
      ]
     },
     "metadata": {
      "needs_background": "light"
     },
     "output_type": "display_data"
    }
   ],
   "source": [
    "##Code to visualize model predictions\n",
    "visualize_model(model_ft, 6)"
   ]
  },
  {
   "cell_type": "code",
   "execution_count": 15,
   "metadata": {
    "colab": {
     "base_uri": "https://localhost:8080/"
    },
    "id": "tALOPknW2X_2",
    "outputId": "878278a1-f9b1-4ba5-c612-2babeb9cd2f9"
   },
   "outputs": [
    {
     "name": "stdout",
     "output_type": "stream",
     "text": [
      "Test Accuracy-  0.9916666666666667\n",
      "              precision    recall  f1-score   support\n",
      "\n",
      "           0       1.00      0.95      0.97        20\n",
      "           1       1.00      1.00      1.00        20\n",
      "           2       0.95      1.00      0.98        20\n",
      "           3       1.00      1.00      1.00        20\n",
      "           4       1.00      1.00      1.00        20\n",
      "           5       1.00      1.00      1.00        20\n",
      "\n",
      "    accuracy                           0.99       120\n",
      "   macro avg       0.99      0.99      0.99       120\n",
      "weighted avg       0.99      0.99      0.99       120\n",
      "\n"
     ]
    }
   ],
   "source": [
    "##Code to test model and generate report\n",
    "model_ft = model_ft.to(device)\n",
    "report = test_model(model_ft, dataloaders)\n",
    "print(report)"
   ]
  },
  {
   "cell_type": "markdown",
   "metadata": {
    "id": "zOdK-c57ddv2"
   },
   "source": [
    "# Experiments"
   ]
  },
  {
   "cell_type": "code",
   "execution_count": null,
   "metadata": {
    "id": "RiKQmMhBwMWN"
   },
   "outputs": [],
   "source": [
    "def experiment_model(model, scheduler, dataloaders, criterion, optimizer, num_epochs=25):\n",
    "  train_acc = []\n",
    "  train_loss = []\n",
    "  test_acc = []\n",
    "  test_loss = []\n",
    "  epoch_num = []\n",
    "\n",
    "  since = time.time()\n",
    "\n",
    "  best_model_wts = copy.deepcopy(model.state_dict)     ##state_dict - Python dicionary which maps each layer to its parameter tensor\n",
    "  best_acc = 0.0\n",
    "\n",
    "  for epoch in range(num_epochs):\n",
    "    print(f'Epoch {epoch}/{num_epochs - 1}')\n",
    "    print('-' * 10)\n",
    "\n",
    "    for phase in ['test','train', 'val']:\n",
    "      if phase == 'train':\n",
    "        model.train()\n",
    "      else:\n",
    "        model.eval()\n",
    "    \n",
    "      running_loss = 0.00\n",
    "      running_corrects = 0.0\n",
    "\n",
    "      for inputs, labels in dataloaders[phase]:\n",
    "        inputs = inputs.to(device)\n",
    "        labels = labels.to(device)\n",
    "\n",
    "        optimizer.zero_grad()   # zero the parameter gradients at the start of training loop\n",
    "\n",
    "        with torch.set_grad_enabled(phase == 'train'):\n",
    "\n",
    "          outputs = model(inputs)\n",
    "          loss = criterion(outputs, labels)\n",
    "\n",
    "          _, preds = torch.max(outputs, 1)\n",
    "\n",
    "          if phase == 'train':\n",
    "            loss.backward()\n",
    "            optimizer.step()\n",
    "\n",
    "        running_loss += loss.item() * inputs.size(0)\n",
    "        running_corrects += torch.sum(preds == labels.data).detach().cpu().numpy()\n",
    "\n",
    "      if phase == 'train':\n",
    "        scheduler.step()\n",
    "\n",
    "      epoch_loss = running_loss / len(dataloaders[phase].dataset)\n",
    "      epoch_acc = running_corrects / len(dataloaders[phase].dataset)\n",
    "\n",
    "      print('{} Loss: {:.4f} Acc: {:.4f}'.format(phase, epoch_loss, epoch_acc))\n",
    "      if phase == 'train':\n",
    "        train_acc.append(epoch_acc)\n",
    "        train_loss.append(epoch_loss)\n",
    "\n",
    "      if phase == 'test':\n",
    "        test_acc.append(epoch_acc)\n",
    "        test_loss.append(epoch_loss)\n",
    "\n",
    "      if phase == 'val' and epoch_acc > best_acc:\n",
    "          best_acc = epoch_acc\n",
    "          best_model_wts = copy.deepcopy(model.state_dict())\n",
    "\n",
    "      epoch_num.append(epoch)\n",
    "\n",
    "    print()\n",
    "\n",
    "  time_elapsed = time.time() - since\n",
    "  print('Training complete in {:.0f}m {:.0f}s'.format(time_elapsed // 60, time_elapsed % 60))\n",
    "  print('Best val Acc: {:4f}'.format(best_acc))\n",
    "\n",
    "  model.load_state_dict(best_model_wts)\n",
    "  return train_acc, train_loss, test_acc, test_loss, epoch_num\n"
   ]
  },
  {
   "cell_type": "code",
   "execution_count": null,
   "metadata": {
    "id": "ZrCcJjJZxfTm"
   },
   "outputs": [],
   "source": [
    "model_ft = ResNet18FineTuned(len(image_datasets['train'].classes))\n",
    "\n",
    "model_ft = model_ft.to(device)"
   ]
  },
  {
   "cell_type": "code",
   "execution_count": null,
   "metadata": {
    "colab": {
     "base_uri": "https://localhost:8080/"
    },
    "id": "AbmO8vuI127S",
    "outputId": "f0b517d2-4de7-44e5-dcd7-c0c8c7d19089"
   },
   "outputs": [
    {
     "name": "stdout",
     "output_type": "stream",
     "text": [
      "Parameters to Update by optimizer: model.fc.weight\n",
      "Parameters to Update by optimizer: model.fc.bias\n",
      "Epoch 0/29\n",
      "----------\n",
      "test Loss: 2.1122 Acc: 0.1417\n",
      "train Loss: 1.4085 Acc: 0.4468\n",
      "val Loss: 0.3566 Acc: 0.9083\n",
      "\n",
      "Epoch 1/29\n",
      "----------\n",
      "test Loss: 0.3642 Acc: 0.8833\n",
      "train Loss: 0.8685 Acc: 0.6879\n",
      "val Loss: 0.1949 Acc: 0.9633\n",
      "\n",
      "Epoch 2/29\n",
      "----------\n",
      "test Loss: 0.1917 Acc: 0.9417\n",
      "train Loss: 0.7711 Acc: 0.7163\n",
      "val Loss: 0.1402 Acc: 0.9633\n",
      "\n",
      "Epoch 3/29\n",
      "----------\n",
      "test Loss: 0.1308 Acc: 0.9750\n",
      "train Loss: 0.7525 Acc: 0.7565\n",
      "val Loss: 0.1433 Acc: 0.9450\n",
      "\n",
      "Epoch 4/29\n",
      "----------\n",
      "test Loss: 0.1826 Acc: 0.9333\n",
      "train Loss: 0.7003 Acc: 0.7612\n",
      "val Loss: 0.1101 Acc: 0.9541\n",
      "\n",
      "Epoch 5/29\n",
      "----------\n",
      "test Loss: 0.1032 Acc: 0.9750\n",
      "train Loss: 0.6915 Acc: 0.7518\n",
      "val Loss: 0.1106 Acc: 0.9541\n",
      "\n",
      "Epoch 6/29\n",
      "----------\n",
      "test Loss: 0.1345 Acc: 0.9833\n",
      "train Loss: 0.6697 Acc: 0.7707\n",
      "val Loss: 0.1422 Acc: 0.9450\n",
      "\n",
      "Epoch 7/29\n",
      "----------\n",
      "test Loss: 0.1220 Acc: 0.9583\n",
      "train Loss: 0.6522 Acc: 0.7707\n",
      "val Loss: 0.1093 Acc: 0.9817\n",
      "\n",
      "Epoch 8/29\n",
      "----------\n",
      "test Loss: 0.1211 Acc: 0.9667\n",
      "train Loss: 0.5671 Acc: 0.8038\n",
      "val Loss: 0.1109 Acc: 0.9725\n",
      "\n",
      "Epoch 9/29\n",
      "----------\n",
      "test Loss: 0.1389 Acc: 0.9667\n",
      "train Loss: 0.5495 Acc: 0.8180\n",
      "val Loss: 0.0833 Acc: 0.9725\n",
      "\n",
      "Epoch 10/29\n",
      "----------\n",
      "test Loss: 0.0873 Acc: 0.9750\n",
      "train Loss: 0.4867 Acc: 0.8180\n",
      "val Loss: 0.1016 Acc: 0.9725\n",
      "\n",
      "Epoch 11/29\n",
      "----------\n",
      "test Loss: 0.1052 Acc: 0.9750\n",
      "train Loss: 0.4361 Acc: 0.8652\n",
      "val Loss: 0.0948 Acc: 0.9725\n",
      "\n",
      "Epoch 12/29\n",
      "----------\n",
      "test Loss: 0.0788 Acc: 0.9833\n",
      "train Loss: 0.4926 Acc: 0.8180\n",
      "val Loss: 0.1047 Acc: 0.9817\n",
      "\n",
      "Epoch 13/29\n",
      "----------\n",
      "test Loss: 0.0965 Acc: 0.9750\n",
      "train Loss: 0.5387 Acc: 0.8251\n",
      "val Loss: 0.1044 Acc: 0.9817\n",
      "\n",
      "Epoch 14/29\n",
      "----------\n",
      "test Loss: 0.0909 Acc: 0.9833\n",
      "train Loss: 0.4688 Acc: 0.8345\n",
      "val Loss: 0.0891 Acc: 0.9725\n",
      "\n",
      "Epoch 15/29\n",
      "----------\n",
      "test Loss: 0.0768 Acc: 0.9917\n",
      "train Loss: 0.5385 Acc: 0.8274\n",
      "val Loss: 0.1032 Acc: 0.9817\n",
      "\n",
      "Epoch 16/29\n",
      "----------\n",
      "test Loss: 0.1089 Acc: 0.9667\n",
      "train Loss: 0.4823 Acc: 0.8392\n",
      "val Loss: 0.0946 Acc: 0.9817\n",
      "\n",
      "Epoch 17/29\n",
      "----------\n",
      "test Loss: 0.0819 Acc: 0.9833\n",
      "train Loss: 0.5863 Acc: 0.7967\n",
      "val Loss: 0.1098 Acc: 0.9541\n",
      "\n",
      "Epoch 18/29\n",
      "----------\n",
      "test Loss: 0.0904 Acc: 0.9667\n",
      "train Loss: 0.5864 Acc: 0.8061\n",
      "val Loss: 0.0944 Acc: 0.9725\n",
      "\n",
      "Epoch 19/29\n",
      "----------\n",
      "test Loss: 0.0852 Acc: 0.9833\n",
      "train Loss: 0.5637 Acc: 0.8132\n",
      "val Loss: 0.1189 Acc: 0.9541\n",
      "\n",
      "Epoch 20/29\n",
      "----------\n",
      "test Loss: 0.0843 Acc: 0.9917\n",
      "train Loss: 0.5217 Acc: 0.8227\n",
      "val Loss: 0.1002 Acc: 0.9725\n",
      "\n",
      "Epoch 21/29\n",
      "----------\n",
      "test Loss: 0.1060 Acc: 0.9750\n",
      "train Loss: 0.5753 Acc: 0.8014\n",
      "val Loss: 0.0982 Acc: 0.9817\n",
      "\n",
      "Epoch 22/29\n",
      "----------\n",
      "test Loss: 0.0959 Acc: 0.9667\n",
      "train Loss: 0.4937 Acc: 0.8369\n",
      "val Loss: 0.0902 Acc: 0.9725\n",
      "\n",
      "Epoch 23/29\n",
      "----------\n",
      "test Loss: 0.0822 Acc: 0.9917\n",
      "train Loss: 0.5429 Acc: 0.8061\n",
      "val Loss: 0.1052 Acc: 0.9725\n",
      "\n",
      "Epoch 24/29\n",
      "----------\n",
      "test Loss: 0.0988 Acc: 0.9750\n",
      "train Loss: 0.5181 Acc: 0.8156\n",
      "val Loss: 0.0973 Acc: 0.9725\n",
      "\n",
      "Epoch 25/29\n",
      "----------\n",
      "test Loss: 0.0889 Acc: 0.9750\n",
      "train Loss: 0.5178 Acc: 0.8322\n",
      "val Loss: 0.1127 Acc: 0.9633\n",
      "\n",
      "Epoch 26/29\n",
      "----------\n",
      "test Loss: 0.1077 Acc: 0.9583\n",
      "train Loss: 0.5361 Acc: 0.8038\n",
      "val Loss: 0.1271 Acc: 0.9541\n",
      "\n",
      "Epoch 27/29\n",
      "----------\n",
      "test Loss: 0.1252 Acc: 0.9833\n",
      "train Loss: 0.5267 Acc: 0.8298\n",
      "val Loss: 0.0972 Acc: 0.9817\n",
      "\n",
      "Epoch 28/29\n",
      "----------\n",
      "test Loss: 0.0873 Acc: 0.9750\n",
      "train Loss: 0.5007 Acc: 0.8440\n",
      "val Loss: 0.0961 Acc: 0.9725\n",
      "\n",
      "Epoch 29/29\n",
      "----------\n",
      "test Loss: 0.0911 Acc: 0.9833\n",
      "train Loss: 0.5007 Acc: 0.8298\n",
      "val Loss: 0.0977 Acc: 0.9633\n",
      "\n",
      "Training complete in 3m 57s\n",
      "Best val Acc: 0.981651\n"
     ]
    }
   ],
   "source": [
    "params_to_update = []\n",
    "for name,param in model_ft.named_parameters():\n",
    "  if param.requires_grad == True:\n",
    "    params_to_update.append(param)\n",
    "    print(\"Parameters to Update by optimizer:\",name)\n",
    "    \n",
    "optimizer_ft = optim.SGD(params_to_update, lr=0.001, momentum=0.9)\n",
    "\n",
    "criterion = nn.CrossEntropyLoss()\n",
    "\n",
    "exp_lr_scheduler = lr_scheduler.StepLR(optimizer_ft, step_size=7, gamma=0.1)\n",
    "train_acc_SGD_CEL, train_loss_SGD_CEL, test_acc_SGD_CEL, test_loss_SGD_CEL, epoch_num_SGD_CEL = experiment_model(model_ft, exp_lr_scheduler, dataloaders, criterion, optimizer_ft, num_epochs=30)"
   ]
  },
  {
   "cell_type": "code",
   "execution_count": null,
   "metadata": {
    "colab": {
     "base_uri": "https://localhost:8080/",
     "height": 555
    },
    "id": "FVlvoK6s2cl4",
    "outputId": "aabf308d-10db-409c-ead7-6a7d6a01ee5a"
   },
   "outputs": [
    {
     "data": {
      "image/png": "[encoded data removed]",
      "text/plain": [
       "<Figure size 800x600 with 1 Axes>"
      ]
     },
     "metadata": {
      "needs_background": "light"
     },
     "output_type": "display_data"
    }
   ],
   "source": [
    "\n",
    "epoch_num = range(1,31)\n",
    "plt.figure(figsize=(8,6), dpi=100)\n",
    "plt.plot(epoch_num, train_acc_SGD_CEL, 'g', label = 'train accuracy')\n",
    "plt.plot(epoch_num, test_acc_SGD_CEL, 'r', label = 'test accuracy')\n",
    "plt.xlabel(\"Number of epochs\")\n",
    "plt.ylabel(\"Accuracy\")\n",
    "plt.title('Accuracy vs number of epochs, Optimizer- SGD, Loss- CrossEntropy')\n",
    "plt.legend()\n",
    "plt.show()"
   ]
  },
  {
   "cell_type": "code",
   "execution_count": null,
   "metadata": {
    "colab": {
     "base_uri": "https://localhost:8080/"
    },
    "id": "GpZxCErTYQAW",
    "outputId": "4a690aff-4698-4430-9ee0-ae09337cb40f"
   },
   "outputs": [
    {
     "name": "stdout",
     "output_type": "stream",
     "text": [
      "Parameters to Update by optimizer: model.fc.weight\n",
      "Parameters to Update by optimizer: model.fc.bias\n",
      "Epoch 0/29\n",
      "----------\n",
      "test Loss: 2.2376 Acc: 0.1500\n",
      "train Loss: 1.5597 Acc: 0.3641\n",
      "val Loss: 0.6575 Acc: 0.8073\n",
      "\n",
      "Epoch 1/29\n",
      "----------\n",
      "test Loss: 0.7227 Acc: 0.7417\n",
      "train Loss: 1.0732 Acc: 0.6265\n",
      "val Loss: 0.2841 Acc: 0.9725\n",
      "\n",
      "Epoch 2/29\n",
      "----------\n",
      "test Loss: 0.3061 Acc: 0.9583\n",
      "train Loss: 0.8346 Acc: 0.7258\n",
      "val Loss: 0.1965 Acc: 0.9725\n",
      "\n",
      "Epoch 3/29\n",
      "----------\n",
      "test Loss: 0.2039 Acc: 0.9667\n",
      "train Loss: 0.8089 Acc: 0.7163\n",
      "val Loss: 0.1610 Acc: 0.9725\n",
      "\n",
      "Epoch 4/29\n",
      "----------\n",
      "test Loss: 0.1632 Acc: 0.9667\n",
      "train Loss: 0.8086 Acc: 0.7069\n",
      "val Loss: 0.1700 Acc: 0.9633\n",
      "\n",
      "Epoch 5/29\n",
      "----------\n",
      "test Loss: 0.1578 Acc: 0.9667\n",
      "train Loss: 0.7473 Acc: 0.7636\n",
      "val Loss: 0.1601 Acc: 0.9358\n",
      "\n",
      "Epoch 6/29\n",
      "----------\n",
      "test Loss: 0.1399 Acc: 0.9667\n",
      "train Loss: 0.7484 Acc: 0.7400\n",
      "val Loss: 0.1444 Acc: 0.9358\n",
      "\n",
      "Epoch 7/29\n",
      "----------\n",
      "test Loss: 0.1150 Acc: 0.9833\n",
      "train Loss: 0.6067 Acc: 0.7896\n",
      "val Loss: 0.1357 Acc: 0.9541\n",
      "\n",
      "Epoch 8/29\n",
      "----------\n",
      "test Loss: 0.1115 Acc: 0.9833\n",
      "train Loss: 0.6023 Acc: 0.7967\n",
      "val Loss: 0.1041 Acc: 0.9725\n",
      "\n",
      "Epoch 9/29\n",
      "----------\n",
      "test Loss: 0.0979 Acc: 1.0000\n",
      "train Loss: 0.5348 Acc: 0.8369\n",
      "val Loss: 0.1286 Acc: 0.9541\n",
      "\n",
      "Epoch 10/29\n",
      "----------\n",
      "test Loss: 0.0987 Acc: 0.9667\n",
      "train Loss: 0.5950 Acc: 0.7872\n",
      "val Loss: 0.1297 Acc: 0.9633\n",
      "\n",
      "Epoch 11/29\n",
      "----------\n",
      "test Loss: 0.1205 Acc: 0.9583\n",
      "train Loss: 0.5558 Acc: 0.8227\n",
      "val Loss: 0.1282 Acc: 0.9541\n",
      "\n",
      "Epoch 12/29\n",
      "----------\n",
      "test Loss: 0.1029 Acc: 0.9750\n",
      "train Loss: 0.6270 Acc: 0.7825\n",
      "val Loss: 0.1229 Acc: 0.9725\n",
      "\n",
      "Epoch 13/29\n",
      "----------\n",
      "test Loss: 0.1090 Acc: 0.9667\n",
      "train Loss: 0.6038 Acc: 0.7825\n",
      "val Loss: 0.1226 Acc: 0.9633\n",
      "\n",
      "Epoch 14/29\n",
      "----------\n",
      "test Loss: 0.0995 Acc: 0.9833\n",
      "train Loss: 0.5998 Acc: 0.7849\n",
      "val Loss: 0.1261 Acc: 0.9633\n",
      "\n",
      "Epoch 15/29\n",
      "----------\n",
      "test Loss: 0.1134 Acc: 0.9667\n",
      "train Loss: 0.6009 Acc: 0.8132\n",
      "val Loss: 0.1221 Acc: 0.9725\n",
      "\n",
      "Epoch 16/29\n",
      "----------\n",
      "test Loss: 0.1134 Acc: 0.9583\n",
      "train Loss: 0.5253 Acc: 0.8345\n",
      "val Loss: 0.1242 Acc: 0.9633\n",
      "\n",
      "Epoch 17/29\n",
      "----------\n",
      "test Loss: 0.0997 Acc: 0.9833\n",
      "train Loss: 0.5975 Acc: 0.8061\n",
      "val Loss: 0.1295 Acc: 0.9541\n",
      "\n",
      "Epoch 18/29\n",
      "----------\n",
      "test Loss: 0.1017 Acc: 0.9833\n",
      "train Loss: 0.5431 Acc: 0.8511\n",
      "val Loss: 0.1362 Acc: 0.9541\n",
      "\n",
      "Epoch 19/29\n",
      "----------\n",
      "test Loss: 0.1223 Acc: 0.9750\n",
      "train Loss: 0.6408 Acc: 0.7801\n",
      "val Loss: 0.1303 Acc: 0.9725\n",
      "\n",
      "Epoch 20/29\n",
      "----------\n",
      "test Loss: 0.0967 Acc: 1.0000\n",
      "train Loss: 0.5740 Acc: 0.7991\n",
      "val Loss: 0.1120 Acc: 0.9725\n",
      "\n",
      "Epoch 21/29\n",
      "----------\n",
      "test Loss: 0.1184 Acc: 0.9667\n",
      "train Loss: 0.5606 Acc: 0.8038\n",
      "val Loss: 0.1095 Acc: 0.9817\n",
      "\n",
      "Epoch 22/29\n",
      "----------\n",
      "test Loss: 0.1036 Acc: 0.9750\n",
      "train Loss: 0.5472 Acc: 0.8322\n",
      "val Loss: 0.1083 Acc: 0.9725\n",
      "\n",
      "Epoch 23/29\n",
      "----------\n",
      "test Loss: 0.1078 Acc: 0.9833\n",
      "train Loss: 0.5312 Acc: 0.8274\n",
      "val Loss: 0.1222 Acc: 0.9541\n",
      "\n",
      "Epoch 24/29\n",
      "----------\n",
      "test Loss: 0.1104 Acc: 0.9917\n",
      "train Loss: 0.5867 Acc: 0.8085\n",
      "val Loss: 0.1183 Acc: 0.9725\n",
      "\n",
      "Epoch 25/29\n",
      "----------\n",
      "test Loss: 0.1103 Acc: 0.9667\n",
      "train Loss: 0.5251 Acc: 0.8274\n",
      "val Loss: 0.1119 Acc: 0.9725\n",
      "\n",
      "Epoch 26/29\n",
      "----------\n",
      "test Loss: 0.1039 Acc: 0.9750\n",
      "train Loss: 0.5941 Acc: 0.8085\n",
      "val Loss: 0.1233 Acc: 0.9725\n",
      "\n",
      "Epoch 27/29\n",
      "----------\n",
      "test Loss: 0.1140 Acc: 0.9833\n",
      "train Loss: 0.5322 Acc: 0.8251\n",
      "val Loss: 0.1184 Acc: 0.9725\n",
      "\n",
      "Epoch 28/29\n",
      "----------\n",
      "test Loss: 0.1005 Acc: 0.9833\n",
      "train Loss: 0.5744 Acc: 0.8109\n",
      "val Loss: 0.1132 Acc: 0.9817\n",
      "\n",
      "Epoch 29/29\n",
      "----------\n",
      "test Loss: 0.1014 Acc: 0.9833\n",
      "train Loss: 0.5637 Acc: 0.8203\n",
      "val Loss: 0.1408 Acc: 0.9450\n",
      "\n",
      "Training complete in 3m 50s\n",
      "Best val Acc: 0.981651\n"
     ]
    }
   ],
   "source": [
    "model_ft = ResNet18FineTuned(len(image_datasets['train'].classes))\n",
    "model_ft = model_ft.to(device)\n",
    "params_to_update = []\n",
    "for name,param in model_ft.named_parameters():\n",
    "  if param.requires_grad == True:\n",
    "    params_to_update.append(param)\n",
    "    print(\"Parameters to Update by optimizer:\",name)\n",
    "    \n",
    "optimizer_ft = optim.Adam(params_to_update, lr=0.001)\n",
    "\n",
    "criterion = nn.CrossEntropyLoss()\n",
    "\n",
    "exp_lr_scheduler = lr_scheduler.StepLR(optimizer_ft, step_size=7, gamma=0.1)\n",
    "train_acc_Adam_CEL, train_loss_Adam_CEL, test_acc_Adam_CEL, test_loss_Adam_CEL, epoch_num_SGD_CEL = experiment_model(model_ft, exp_lr_scheduler, dataloaders, criterion, optimizer_ft, num_epochs=30)"
   ]
  },
  {
   "cell_type": "code",
   "execution_count": null,
   "metadata": {
    "colab": {
     "base_uri": "https://localhost:8080/",
     "height": 555
    },
    "id": "3hQLCMEN36GW",
    "outputId": "9218999b-1ce2-4ee5-de55-1b24ee891a01"
   },
   "outputs": [
    {
     "data": {
      "image/png": "[encoded data removed]",
      "text/plain": [
       "<Figure size 800x600 with 1 Axes>"
      ]
     },
     "metadata": {
      "needs_background": "light"
     },
     "output_type": "display_data"
    }
   ],
   "source": [
    "epoch_num = range(1,31)\n",
    "plt.figure(figsize=(8,6), dpi=100)\n",
    "plt.plot(epoch_num, test_acc_Adam_CEL, 'g', label = 'Adam test accuracy')\n",
    "plt.plot(epoch_num, test_acc_SGD_CEL, 'r', label = 'SGD test accuracy')\n",
    "\n",
    "plt.plot(epoch_num, train_acc_Adam_CEL, 'm', label = 'Adam train accuracy')\n",
    "plt.plot(epoch_num, train_acc_SGD_CEL, 'y', label = 'SGD train accuracy')\n",
    "\n",
    "plt.xlabel(\"Number of epochs\")\n",
    "plt.ylabel(\"Accuracy\")\n",
    "plt.title('Accuracy vs number of epochs for SGD and Adam optimizers')\n",
    "plt.legend()\n",
    "plt.show()"
   ]
  },
  {
   "cell_type": "code",
   "execution_count": null,
   "metadata": {},
   "outputs": [],
   "source": [
    "cleanup()"
   ]
  }
 ],
 "metadata": {
  "accelerator": "GPU",
  "colab": {
   "provenance": []
  },
  "gpuClass": "standard",
  "kernelspec": {
   "display_name": "Python 3",
   "language": "python",
   "name": "python3"
  },
  "language_info": {
   "codemirror_mode": {
    "name": "ipython",
    "version": 3
   },
   "file_extension": ".py",
   "mimetype": "text/x-python",
   "name": "python",
   "nbconvert_exporter": "python",
   "pygments_lexer": "ipython3",
   "version": "3.9.12"
  },
  "widgets": {
   "application/vnd.jupyter.widget-state+json": {
    "1d7627ae1f4745b8a611ffcf943e2229": {
     "model_module": "@jupyter-widgets/base",
     "model_module_version": "1.2.0",
     "model_name": "LayoutModel",
     "state": {
      "_model_module": "@jupyter-widgets/base",
      "_model_module_version": "1.2.0",
      "_model_name": "LayoutModel",
      "_view_count": null,
      "_view_module": "@jupyter-widgets/base",
      "_view_module_version": "1.2.0",
      "_view_name": "LayoutView",
      "align_content": null,
      "align_items": null,
      "align_self": null,
      "border": null,
      "bottom": null,
      "display": null,
      "flex": null,
      "flex_flow": null,
      "grid_area": null,
      "grid_auto_columns": null,
      "grid_auto_flow": null,
      "grid_auto_rows": null,
      "grid_column": null,
      "grid_gap": null,
      "grid_row": null,
      "grid_template_areas": null,
      "grid_template_columns": null,
      "grid_template_rows": null,
      "height": null,
      "justify_content": null,
      "justify_items": null,
      "left": null,
      "margin": null,
      "max_height": null,
      "max_width": null,
      "min_height": null,
      "min_width": null,
      "object_fit": null,
      "object_position": null,
      "order": null,
      "overflow": null,
      "overflow_x": null,
      "overflow_y": null,
      "padding": null,
      "right": null,
      "top": null,
      "visibility": null,
      "width": null
     }
    },
    "38feb2535ae9438abe76e3d3aedc6785": {
     "model_module": "@jupyter-widgets/controls",
     "model_module_version": "1.5.0",
     "model_name": "HTMLModel",
     "state": {
      "_dom_classes": [],
      "_model_module": "@jupyter-widgets/controls",
      "_model_module_version": "1.5.0",
      "_model_name": "HTMLModel",
      "_view_count": null,
      "_view_module": "@jupyter-widgets/controls",
      "_view_module_version": "1.5.0",
      "_view_name": "HTMLView",
      "description": "",
      "description_tooltip": null,
      "layout": "IPY_MODEL_a1c69b2845394f2a8f411228aa0865a0",
      "placeholder": "​",
      "style": "IPY_MODEL_896a69e2dfe3432996a55b82d0831cd1",
      "value": "100%"
     }
    },
    "4467d009e1cb466eb096ab8e16ccf3a5": {
     "model_module": "@jupyter-widgets/controls",
     "model_module_version": "1.5.0",
     "model_name": "ProgressStyleModel",
     "state": {
      "_model_module": "@jupyter-widgets/controls",
      "_model_module_version": "1.5.0",
      "_model_name": "ProgressStyleModel",
      "_view_count": null,
      "_view_module": "@jupyter-widgets/base",
      "_view_module_version": "1.2.0",
      "_view_name": "StyleView",
      "bar_color": null,
      "description_width": ""
     }
    },
    "533067ae9a174cbbbc1af20d8d0a5d6e": {
     "model_module": "@jupyter-widgets/controls",
     "model_module_version": "1.5.0",
     "model_name": "FloatProgressModel",
     "state": {
      "_dom_classes": [],
      "_model_module": "@jupyter-widgets/controls",
      "_model_module_version": "1.5.0",
      "_model_name": "FloatProgressModel",
      "_view_count": null,
      "_view_module": "@jupyter-widgets/controls",
      "_view_module_version": "1.5.0",
      "_view_name": "ProgressView",
      "bar_style": "success",
      "description": "",
      "description_tooltip": null,
      "layout": "IPY_MODEL_6734b6ee44bf4b6384a24d54a2373cde",
      "max": 46830571,
      "min": 0,
      "orientation": "horizontal",
      "style": "IPY_MODEL_4467d009e1cb466eb096ab8e16ccf3a5",
      "value": 46830571
     }
    },
    "6734b6ee44bf4b6384a24d54a2373cde": {
     "model_module": "@jupyter-widgets/base",
     "model_module_version": "1.2.0",
     "model_name": "LayoutModel",
     "state": {
      "_model_module": "@jupyter-widgets/base",
      "_model_module_version": "1.2.0",
      "_model_name": "LayoutModel",
      "_view_count": null,
      "_view_module": "@jupyter-widgets/base",
      "_view_module_version": "1.2.0",
      "_view_name": "LayoutView",
      "align_content": null,
      "align_items": null,
      "align_self": null,
      "border": null,
      "bottom": null,
      "display": null,
      "flex": null,
      "flex_flow": null,
      "grid_area": null,
      "grid_auto_columns": null,
      "grid_auto_flow": null,
      "grid_auto_rows": null,
      "grid_column": null,
      "grid_gap": null,
      "grid_row": null,
      "grid_template_areas": null,
      "grid_template_columns": null,
      "grid_template_rows": null,
      "height": null,
      "justify_content": null,
      "justify_items": null,
      "left": null,
      "margin": null,
      "max_height": null,
      "max_width": null,
      "min_height": null,
      "min_width": null,
      "object_fit": null,
      "object_position": null,
      "order": null,
      "overflow": null,
      "overflow_x": null,
      "overflow_y": null,
      "padding": null,
      "right": null,
      "top": null,
      "visibility": null,
      "width": null
     }
    },
    "7688b814a70d4de4aed52b760d3a2073": {
     "model_module": "@jupyter-widgets/controls",
     "model_module_version": "1.5.0",
     "model_name": "HTMLModel",
     "state": {
      "_dom_classes": [],
      "_model_module": "@jupyter-widgets/controls",
      "_model_module_version": "1.5.0",
      "_model_name": "HTMLModel",
      "_view_count": null,
      "_view_module": "@jupyter-widgets/controls",
      "_view_module_version": "1.5.0",
      "_view_name": "HTMLView",
      "description": "",
      "description_tooltip": null,
      "layout": "IPY_MODEL_1d7627ae1f4745b8a611ffcf943e2229",
      "placeholder": "​",
      "style": "IPY_MODEL_91afbc09c8c049339123c826a031ddcf",
      "value": " 44.7M/44.7M [00:00&lt;00:00, 120MB/s]"
     }
    },
    "896a69e2dfe3432996a55b82d0831cd1": {
     "model_module": "@jupyter-widgets/controls",
     "model_module_version": "1.5.0",
     "model_name": "DescriptionStyleModel",
     "state": {
      "_model_module": "@jupyter-widgets/controls",
      "_model_module_version": "1.5.0",
      "_model_name": "DescriptionStyleModel",
      "_view_count": null,
      "_view_module": "@jupyter-widgets/base",
      "_view_module_version": "1.2.0",
      "_view_name": "StyleView",
      "description_width": ""
     }
    },
    "91afbc09c8c049339123c826a031ddcf": {
     "model_module": "@jupyter-widgets/controls",
     "model_module_version": "1.5.0",
     "model_name": "DescriptionStyleModel",
     "state": {
      "_model_module": "@jupyter-widgets/controls",
      "_model_module_version": "1.5.0",
      "_model_name": "DescriptionStyleModel",
      "_view_count": null,
      "_view_module": "@jupyter-widgets/base",
      "_view_module_version": "1.2.0",
      "_view_name": "StyleView",
      "description_width": ""
     }
    },
    "a1c69b2845394f2a8f411228aa0865a0": {
     "model_module": "@jupyter-widgets/base",
     "model_module_version": "1.2.0",
     "model_name": "LayoutModel",
     "state": {
      "_model_module": "@jupyter-widgets/base",
      "_model_module_version": "1.2.0",
      "_model_name": "LayoutModel",
      "_view_count": null,
      "_view_module": "@jupyter-widgets/base",
      "_view_module_version": "1.2.0",
      "_view_name": "LayoutView",
      "align_content": null,
      "align_items": null,
      "align_self": null,
      "border": null,
      "bottom": null,
      "display": null,
      "flex": null,
      "flex_flow": null,
      "grid_area": null,
      "grid_auto_columns": null,
      "grid_auto_flow": null,
      "grid_auto_rows": null,
      "grid_column": null,
      "grid_gap": null,
      "grid_row": null,
      "grid_template_areas": null,
      "grid_template_columns": null,
      "grid_template_rows": null,
      "height": null,
      "justify_content": null,
      "justify_items": null,
      "left": null,
      "margin": null,
      "max_height": null,
      "max_width": null,
      "min_height": null,
      "min_width": null,
      "object_fit": null,
      "object_position": null,
      "order": null,
      "overflow": null,
      "overflow_x": null,
      "overflow_y": null,
      "padding": null,
      "right": null,
      "top": null,
      "visibility": null,
      "width": null
     }
    },
    "b90b47b5e28d4615847385feb15fc9be": {
     "model_module": "@jupyter-widgets/base",
     "model_module_version": "1.2.0",
     "model_name": "LayoutModel",
     "state": {
      "_model_module": "@jupyter-widgets/base",
      "_model_module_version": "1.2.0",
      "_model_name": "LayoutModel",
      "_view_count": null,
      "_view_module": "@jupyter-widgets/base",
      "_view_module_version": "1.2.0",
      "_view_name": "LayoutView",
      "align_content": null,
      "align_items": null,
      "align_self": null,
      "border": null,
      "bottom": null,
      "display": null,
      "flex": null,
      "flex_flow": null,
      "grid_area": null,
      "grid_auto_columns": null,
      "grid_auto_flow": null,
      "grid_auto_rows": null,
      "grid_column": null,
      "grid_gap": null,
      "grid_row": null,
      "grid_template_areas": null,
      "grid_template_columns": null,
      "grid_template_rows": null,
      "height": null,
      "justify_content": null,
      "justify_items": null,
      "left": null,
      "margin": null,
      "max_height": null,
      "max_width": null,
      "min_height": null,
      "min_width": null,
      "object_fit": null,
      "object_position": null,
      "order": null,
      "overflow": null,
      "overflow_x": null,
      "overflow_y": null,
      "padding": null,
      "right": null,
      "top": null,
      "visibility": null,
      "width": null
     }
    },
    "e6aa859f19814e11b4b176ad29599400": {
     "model_module": "@jupyter-widgets/controls",
     "model_module_version": "1.5.0",
     "model_name": "HBoxModel",
     "state": {
      "_dom_classes": [],
      "_model_module": "@jupyter-widgets/controls",
      "_model_module_version": "1.5.0",
      "_model_name": "HBoxModel",
      "_view_count": null,
      "_view_module": "@jupyter-widgets/controls",
      "_view_module_version": "1.5.0",
      "_view_name": "HBoxView",
      "box_style": "",
      "children": [
       "IPY_MODEL_38feb2535ae9438abe76e3d3aedc6785",
       "IPY_MODEL_533067ae9a174cbbbc1af20d8d0a5d6e",
       "IPY_MODEL_7688b814a70d4de4aed52b760d3a2073"
      ],
      "layout": "IPY_MODEL_b90b47b5e28d4615847385feb15fc9be"
     }
    }
   }
  }
 },
 "nbformat": 4,
 "nbformat_minor": 1
}
